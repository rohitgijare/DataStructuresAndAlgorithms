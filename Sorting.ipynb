{
 "cells": [
  {
   "cell_type": "code",
   "execution_count": 9,
   "metadata": {},
   "outputs": [],
   "source": [
    "arr = [5, 3, 6, 1, 99]"
   ]
  },
  {
   "cell_type": "markdown",
   "metadata": {},
   "source": [
    "<h4>Selection sort</h4>"
   ]
  },
  {
   "cell_type": "code",
   "execution_count": null,
   "metadata": {},
   "outputs": [],
   "source": [
    "import Data.List"
   ]
  },
  {
   "cell_type": "code",
   "execution_count": null,
   "metadata": {},
   "outputs": [],
   "source": [
    "ssort :: Ord a => [a] -> [a]\n",
    "ssort [] = []\n",
    "ssort xs = m : ssort (delete m xs)\n",
    "            where m = minimum xs"
   ]
  },
  {
   "cell_type": "code",
   "execution_count": null,
   "metadata": {},
   "outputs": [],
   "source": [
    "split :: Ord a => [a] -> a -> [a] -> [a]\n",
    "split [] m r = m : (ssort' r)\n",
    "split (x:xs) m r = if x < m\n",
    "                     then split xs x (m:r)\n",
    "                   else split xs m (x:r)\n",
    "                   \n",
    "ssort' []     = []\n",
    "ssort' (x:xs) = split xs x []"
   ]
  },
  {
   "cell_type": "code",
   "execution_count": null,
   "metadata": {},
   "outputs": [],
   "source": [
    "ssort arr\n",
    "ssort' arr"
   ]
  },
  {
   "cell_type": "markdown",
   "metadata": {},
   "source": [
    "<h4>Insertion sort</h4>"
   ]
  },
  {
   "cell_type": "code",
   "execution_count": null,
   "metadata": {},
   "outputs": [],
   "source": [
    "insert :: Ord a => a -> [a] -> [a]\n",
    "insert x xs = takeWhile ((<=) x) xs ++ [x] ++ dropWhile ((<=) x) xs\n",
    "\n",
    "isort :: Ord a => [a] -> [a]\n",
    "isort []     = []\n",
    "isort (x:xs) = insert x (isort xs)\n",
    "\n",
    "isort' xs = foldr insert [] xs"
   ]
  },
  {
   "cell_type": "code",
   "execution_count": null,
   "metadata": {},
   "outputs": [],
   "source": [
    "insert' key []       = [key]\n",
    "insert' key l@(x:xs)\n",
    "    | key <= x       = key : l\n",
    "    | otherwise      = x : (insert' key xs)\n",
    "    \n",
    "isort'' xs = foldr insert' [] xs"
   ]
  },
  {
   "cell_type": "code",
   "execution_count": null,
   "metadata": {},
   "outputs": [],
   "source": [
    "reverse $ isort arr\n",
    "reverse $ isort' arr\n",
    "isort'' arr"
   ]
  },
  {
   "cell_type": "markdown",
   "metadata": {},
   "source": [
    "<h4>Quick sort</h4>"
   ]
  },
  {
   "cell_type": "code",
   "execution_count": null,
   "metadata": {},
   "outputs": [],
   "source": [
    "qsort :: Ord a => [a] -> [a]\n",
    "qsort []           = []\n",
    "qsort (pivot:rest) = qsort lower ++ [pivot] ++ qsort upper\n",
    "                        where lower = [x | x <- rest, x <= pivot]\n",
    "                              upper = [x | x <- rest, x > pivot]"
   ]
  },
  {
   "cell_type": "code",
   "execution_count": null,
   "metadata": {},
   "outputs": [],
   "source": [
    "qsort' :: Ord a => [a] -> [a] -> [a]\n",
    "qsort' [] s = s\n",
    "qsort' (pivot:rest) s =\n",
    "    qsort' lower (pivot : (qsort' upper s))\n",
    "    where lower = [x | x <- rest, x <= pivot]\n",
    "          upper = [x | x <- rest, x > pivot]  "
   ]
  },
  {
   "cell_type": "code",
   "execution_count": null,
   "metadata": {},
   "outputs": [],
   "source": [
    "qsort arr\n",
    "qsort' arr []"
   ]
  },
  {
   "cell_type": "markdown",
   "metadata": {},
   "source": [
    "<h4>Merge sort</h4>"
   ]
  },
  {
   "cell_type": "code",
   "execution_count": 1,
   "metadata": {},
   "outputs": [],
   "source": [
    "import Control.Monad.Writer\n",
    "import Control.Monad.Identity"
   ]
  },
  {
   "cell_type": "code",
   "execution_count": 2,
   "metadata": {},
   "outputs": [],
   "source": [
    "type ArrayWithLogging a = WriterT [String] Identity [a]"
   ]
  },
  {
   "cell_type": "code",
   "execution_count": 6,
   "metadata": {},
   "outputs": [],
   "source": [
    "{-# LANGUAGE FlexibleContexts #-}\n",
    "\n",
    "merge :: (Show a, Ord a) => [a] -> [a] -> ArrayWithLogging a\n",
    "merge a        []     = tell [\"Returning \" ++ show a] >> return a\n",
    "merge []       b      = tell [\"Returning \" ++ show b] >> return b\n",
    "merge a@(x:xs) b@(y:ys)\n",
    "  | x <= y    = message x xs b  >> fmap (x:) (merge xs b)\n",
    "  | otherwise = message y a  ys >> fmap (y:) (merge a ys)\n",
    "  where\n",
    "    message e ls rs = tell [\"Min \" ++ show e ++ \" merging \" ++ show ls ++ \" with \" ++ show rs]\n",
    "\n",
    "merge' :: (Show a, Ord a) => ArrayWithLogging a-> ArrayWithLogging a-> ArrayWithLogging a\n",
    "merge' a b = do\n",
    "   a1 <- a\n",
    "   b1 <- b\n",
    "   merge a1 b1"
   ]
  },
  {
   "cell_type": "code",
   "execution_count": 12,
   "metadata": {},
   "outputs": [],
   "source": [
    "msort :: (Show a, Ord a) => [a] -> ArrayWithLogging a\n",
    "msort [] = tell [\"Empty base case\"] >> return []\n",
    "msort [x] = tell [\"Single element base case : \" ++ show x] >> return [x]\n",
    "msort xs = do\n",
    "    tell [\"Split 1 : \" ++ show xs1 ++ \" . Split 2 : \" ++ show xs2 ++ \" .\"]\n",
    "        >> merge' (msort xs1) (msort xs2)\n",
    "    where\n",
    "        xs1 = take k xs\n",
    "        xs2 = drop k xs\n",
    "        k = (length xs) `div` 2"
   ]
  },
  {
   "cell_type": "code",
   "execution_count": 13,
   "metadata": {},
   "outputs": [
    {
     "data": {
      "text/plain": [
       "WriterT (Identity ([1,3,5,6,99],[\"Split 1 : [5,3] . Split 2 : [6,1,99] .\",\"Split 1 : [5] . Split 2 : [3] .\",\"Single element base case : 5\",\"Single element base case : 3\",\"Min 3 merging [5] with []\",\"Returning [5]\",\"Split 1 : [6] . Split 2 : [1,99] .\",\"Single element base case : 6\",\"Split 1 : [1] . Split 2 : [99] .\",\"Single element base case : 1\",\"Single element base case : 99\",\"Min 1 merging [] with [99]\",\"Returning [99]\",\"Min 1 merging [6] with [99]\",\"Min 6 merging [] with [99]\",\"Returning [99]\",\"Min 1 merging [3,5] with [6,99]\",\"Min 3 merging [5] with [6,99]\",\"Min 5 merging [] with [6,99]\",\"Returning [6,99]\"]))"
      ]
     },
     "metadata": {},
     "output_type": "display_data"
    }
   ],
   "source": [
    "msort arr"
   ]
  },
  {
   "cell_type": "markdown",
   "metadata": {},
   "source": [
    "<h5>Bottom-up merge sort</h5>"
   ]
  },
  {
   "cell_type": "code",
   "execution_count": 21,
   "metadata": {},
   "outputs": [],
   "source": [
    "split :: (Show a, Ord a) => [a] -> [[a]]\n",
    "split []     = []\n",
    "split (x:xs) = [x] : split xs\n",
    "\n",
    "mergePairs :: (Show a, Ord a) => [[a]] -> [[a]]\n",
    "mergePairs []           = []\n",
    "mergePairs x@[l]        = x\n",
    "mergePairs (l1:l2:rest) = (fst $ runIdentity $ runWriterT (merge l1 l2)) : (mergePairs rest)"
   ]
  },
  {
   "cell_type": "code",
   "execution_count": 22,
   "metadata": {},
   "outputs": [],
   "source": [
    "msort'' :: (Show a, Ord a) => [a] -> [a]\n",
    "msort'' l = ms (split l)\n",
    "    where ms [r] = r\n",
    "          ms l = ms (mergePairs l)"
   ]
  },
  {
   "cell_type": "code",
   "execution_count": 23,
   "metadata": {},
   "outputs": [
    {
     "data": {
      "text/plain": [
       "[1,3,5,6,99]"
      ]
     },
     "metadata": {},
     "output_type": "display_data"
    }
   ],
   "source": [
    "msort'' arr"
   ]
  },
  {
   "cell_type": "code",
   "execution_count": null,
   "metadata": {},
   "outputs": [],
   "source": []
  }
 ],
 "metadata": {
  "kernelspec": {
   "display_name": "Haskell",
   "language": "haskell",
   "name": "haskell"
  },
  "language_info": {
   "codemirror_mode": "ihaskell",
   "file_extension": ".hs",
   "name": "haskell",
   "pygments_lexer": "Haskell",
   "version": "8.4.4"
  }
 },
 "nbformat": 4,
 "nbformat_minor": 2
}

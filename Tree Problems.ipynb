{
 "cells": [
  {
   "cell_type": "code",
   "execution_count": null,
   "metadata": {},
   "outputs": [],
   "source": [
    "data BST a = Leaf |\n",
    "    Node {leftChild :: BST a, val :: a, rightChild :: BST a } deriving (Show, Eq)"
   ]
  },
  {
   "cell_type": "code",
   "execution_count": null,
   "metadata": {},
   "outputs": [],
   "source": [
    "insertBST :: Ord a => a -> BST a -> BST a\n",
    "insertBST a Leaf = Node Leaf a Leaf\n",
    "insertBST a tree@(Node lc a' rc)\n",
    "    | a == a'   = tree\n",
    "    | a > a'    = Node lc a' (insertBST a rc)\n",
    "    | otherwise = Node (insertBST a lc) a' rc"
   ]
  },
  {
   "cell_type": "code",
   "execution_count": null,
   "metadata": {},
   "outputs": [],
   "source": [
    "createBSTFromList :: Ord a => [a] -> BST a\n",
    "createBSTFromList = foldr insertBST Leaf"
   ]
  },
  {
   "cell_type": "code",
   "execution_count": null,
   "metadata": {},
   "outputs": [],
   "source": [
    "bst = createBSTFromList [4, 2, 3, 6, 7, 9, 1, 5, 8]"
   ]
  },
  {
   "cell_type": "markdown",
   "metadata": {},
   "source": [
    "<h4>Tree Traversals</h4>"
   ]
  },
  {
   "cell_type": "code",
   "execution_count": null,
   "metadata": {},
   "outputs": [],
   "source": [
    "inorder :: Show a => BST a -> String\n",
    "inorder Leaf = \"\"\n",
    "inorder (Node lc a rc) = inorder lc ++ show a ++ \" \" ++ inorder rc"
   ]
  },
  {
   "cell_type": "code",
   "execution_count": null,
   "metadata": {},
   "outputs": [],
   "source": [
    "inorder bst"
   ]
  },
  {
   "cell_type": "code",
   "execution_count": null,
   "metadata": {},
   "outputs": [],
   "source": [
    "preorder :: Show a => BST a -> String\n",
    "preorder Leaf = \"\"\n",
    "preorder (Node lc a rc) = show a ++ \" \" ++ preorder lc ++ preorder rc"
   ]
  },
  {
   "cell_type": "code",
   "execution_count": null,
   "metadata": {},
   "outputs": [],
   "source": [
    "preorder bst"
   ]
  },
  {
   "cell_type": "code",
   "execution_count": null,
   "metadata": {},
   "outputs": [],
   "source": [
    "postorder :: Show a => BST a -> String\n",
    "postorder Leaf = \"\"\n",
    "postorder (Node lc a rc) = postorder lc ++ postorder rc ++ \" \" ++ show a"
   ]
  },
  {
   "cell_type": "code",
   "execution_count": null,
   "metadata": {},
   "outputs": [],
   "source": [
    "postorder bst"
   ]
  },
  {
   "cell_type": "markdown",
   "metadata": {},
   "source": [
    "<h4>Heap</h4>"
   ]
  },
  {
   "cell_type": "code",
   "execution_count": null,
   "metadata": {},
   "outputs": [],
   "source": [
    "type Rank = Int\n",
    "\n",
    "data Heap a = EmptyHeap\n",
    "            | HP a Rank (Heap a) (Heap a) deriving Show"
   ]
  },
  {
   "cell_type": "code",
   "execution_count": null,
   "metadata": {},
   "outputs": [],
   "source": [
    "emptyHeap :: Ord a => Heap a\n",
    "emptyHeap = EmptyHeap"
   ]
  },
  {
   "cell_type": "code",
   "execution_count": null,
   "metadata": {},
   "outputs": [],
   "source": [
    "heapEmpty :: Ord a => Heap a -> Bool\n",
    "heapEmpty EmptyHeap = True\n",
    "heapEmpty _ = False"
   ]
  },
  {
   "cell_type": "code",
   "execution_count": null,
   "metadata": {},
   "outputs": [],
   "source": [
    "findHeap :: Ord a => Heap a -> Maybe a\n",
    "findHeap EmptyHeap = Nothing\n",
    "findHeap (HP x _ _ _) = Just x"
   ]
  },
  {
   "cell_type": "code",
   "execution_count": null,
   "metadata": {},
   "outputs": [],
   "source": [
    "rank :: Ord a => Heap a -> Int\n",
    "rank EmptyHeap = 0\n",
    "rank (HP _ r _ _) = r"
   ]
  },
  {
   "cell_type": "code",
   "execution_count": null,
   "metadata": {},
   "outputs": [],
   "source": [
    "makeHP :: Ord a => a -> Heap a -> Heap a -> Heap a\n",
    "makeHP x a b | rank a >= rank b = HP x (rank b + 1) a b\n",
    "             | otherwise        = HP x (rank a + 1) b a\n",
    "             \n",
    "merge :: Ord a => Heap a -> Heap a -> Heap a\n",
    "merge h EmptyHeap = h\n",
    "merge EmptyHeap h = h\n",
    "merge h1@(HP x _ a1 b1) h2@(HP y _ a2 b2)\n",
    "    | x <= y    = makeHP x a1 (merge b1 h2)\n",
    "    | otherwise = makeHP y a2 (merge h1 b2)"
   ]
  },
  {
   "cell_type": "code",
   "execution_count": null,
   "metadata": {},
   "outputs": [],
   "source": [
    "insHeap :: Ord a => a -> Heap a -> Heap a\n",
    "insHeap x h = merge (HP x 1 EmptyHeap EmptyHeap) h"
   ]
  },
  {
   "cell_type": "code",
   "execution_count": null,
   "metadata": {},
   "outputs": [],
   "source": [
    "delHeap :: Ord a => Heap a -> Heap a\n",
    "delHeap EmptyHeap = error \"delHeap: empty heap\"\n",
    "delHeap (HP x _ a b) = merge a b"
   ]
  },
  {
   "cell_type": "code",
   "execution_count": null,
   "metadata": {},
   "outputs": [],
   "source": [
    "newtype PQueue a = PQ (Heap a) deriving Show\n",
    "\n",
    "emptyPQ = PQ emptyHeap\n",
    "\n",
    "pqEmpty (PQ h) = heapEmpty h\n",
    "\n",
    "enPQ v (PQ h) = PQ (insHeap v h)\n",
    "\n",
    "frontPQ (PQ h) = findHeap h\n",
    "\n",
    "delPQ (PQ h) = PQ (delHeap h)"
   ]
  },
  {
   "cell_type": "code",
   "execution_count": null,
   "metadata": {},
   "outputs": [],
   "source": [
    "pq = enPQ 3 (enPQ 5 (enPQ 1 (enPQ 24 (enPQ 10 (enPQ 13 emptyPQ)))))"
   ]
  },
  {
   "cell_type": "markdown",
   "metadata": {},
   "source": [
    "<h4>AVL Trees</h4>"
   ]
  },
  {
   "cell_type": "code",
   "execution_count": 1,
   "metadata": {},
   "outputs": [],
   "source": [
    "data AVLTree a = EmptyAVL\n",
    "               | NodeAVL a (AVLTree a) (AVLTree a) deriving Show"
   ]
  },
  {
   "cell_type": "code",
   "execution_count": 2,
   "metadata": {},
   "outputs": [],
   "source": [
    "rotateLeft :: (Ord a, Show a) => AVLTree a -> AVLTree a\n",
    "rotateLeft EmptyAVL = EmptyAVL\n",
    "rotateLeft (NodeAVL v (NodeAVL lv lflf lfrt) rt) = NodeAVL lv lflf (NodeAVL v lfrt rt)\n",
    "\n",
    "rotateRight :: (Ord a, Show a) => AVLTree a -> AVLTree a\n",
    "rotateRight EmptyAVL = EmptyAVL\n",
    "rotateRight (NodeAVL v lf (NodeAVL rv rtlf rtrt)) = NodeAVL rv (NodeAVL v lf rtlf) rtrt"
   ]
  },
  {
   "cell_type": "code",
   "execution_count": 3,
   "metadata": {},
   "outputs": [],
   "source": [
    "dRotateLeftRight :: (Ord a, Show a) => AVLTree a -> AVLTree a\n",
    "dRotateLeftRight (NodeAVL v (NodeAVL lfv lflf (NodeAVL lfrtv lfrtlf lfrtrt)) rt) =\n",
    "    NodeAVL lfrtv (NodeAVL lfv lflf lfrtlf) (NodeAVL v lfrtrt rt)\n",
    "    \n",
    "dRotateRightLeft :: (Ord a, Show a) => AVLTree a -> AVLTree a\n",
    "dRotateRightLeft (NodeAVL v lf (NodeAVL rtv (NodeAVL rtlfv rtlflf rtlfrt) rtrt)) =\n",
    "    NodeAVL rtlfv (NodeAVL v lf rtlflf) (NodeAVL rtv rtlfrt rtrt)"
   ]
  },
  {
   "cell_type": "code",
   "execution_count": 4,
   "metadata": {},
   "outputs": [],
   "source": [
    "height :: AVLTree a -> Int\n",
    "height EmptyAVL = 0\n",
    "height (NodeAVL _ left right) = 1 + max (height left) (height right)"
   ]
  },
  {
   "cell_type": "code",
   "execution_count": 5,
   "metadata": {},
   "outputs": [],
   "source": [
    "addAVL :: (Ord a, Show a) => a -> AVLTree a -> AVLTree a\n",
    "addAVL i EmptyAVL = NodeAVL i EmptyAVL EmptyAVL\n",
    "addAVL i (NodeAVL v lf rt)\n",
    "    | i < v       = let\n",
    "                        newlf@(NodeAVL newlfv _ _) = addAVL i lf\n",
    "                    in\n",
    "                        if ((height newlf - height rt) == 2)\n",
    "                        then if i < newlfv\n",
    "                            then rotateLeft (NodeAVL v newlf rt)\n",
    "                            else dRotateLeftRight (NodeAVL v newlf rt)\n",
    "                        else (NodeAVL v newlf rt)\n",
    "    | otherwise   = let\n",
    "                        newrt@(NodeAVL newrtv _ _) = addAVL i rt\n",
    "                    in\n",
    "                        if ((height newrt - height lf) == 2)\n",
    "                        then if i > newrtv\n",
    "                            then rotateRight (NodeAVL v lf newrt)\n",
    "                            else dRotateRightLeft (NodeAVL v lf newrt)\n",
    "                        else (NodeAVL v lf newrt)"
   ]
  },
  {
   "cell_type": "code",
   "execution_count": 6,
   "metadata": {},
   "outputs": [],
   "source": [
    "createAVLTreeFromList :: (Show a, Ord a) => [a] -> AVLTree a\n",
    "createAVLTreeFromList = foldr addAVL EmptyAVL"
   ]
  },
  {
   "cell_type": "code",
   "execution_count": 7,
   "metadata": {},
   "outputs": [],
   "source": [
    "tree = createAVLTreeFromList [6, 3, 7, 2, 4, 1]"
   ]
  },
  {
   "cell_type": "code",
   "execution_count": 12,
   "metadata": {},
   "outputs": [],
   "source": [
    "tree''' = addAVL (-3) tree''"
   ]
  },
  {
   "cell_type": "code",
   "execution_count": 13,
   "metadata": {},
   "outputs": [
    {
     "data": {
      "text/plain": [
       "NodeAVL 4 (NodeAVL 2 (NodeAVL (-1) (NodeAVL (-3) EmptyAVL EmptyAVL) (NodeAVL 1 EmptyAVL EmptyAVL)) (NodeAVL 3 EmptyAVL EmptyAVL)) (NodeAVL 6 (NodeAVL 5 EmptyAVL EmptyAVL) (NodeAVL 7 EmptyAVL EmptyAVL))"
      ]
     },
     "metadata": {},
     "output_type": "display_data"
    }
   ],
   "source": [
    "tree'''"
   ]
  },
  {
   "cell_type": "code",
   "execution_count": null,
   "metadata": {},
   "outputs": [],
   "source": []
  }
 ],
 "metadata": {
  "kernelspec": {
   "display_name": "Haskell",
   "language": "haskell",
   "name": "haskell"
  },
  "language_info": {
   "codemirror_mode": "ihaskell",
   "file_extension": ".hs",
   "name": "haskell",
   "pygments_lexer": "Haskell",
   "version": "8.4.4"
  }
 },
 "nbformat": 4,
 "nbformat_minor": 2
}

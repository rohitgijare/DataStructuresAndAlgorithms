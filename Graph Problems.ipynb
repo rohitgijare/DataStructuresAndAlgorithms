{
 "cells": [
  {
   "cell_type": "code",
   "execution_count": 1,
   "metadata": {},
   "outputs": [],
   "source": [
    "import qualified Data.Map as Map\n",
    "import qualified Data.Set as Set\n",
    "import qualified Data.Set.Ordered as OSet\n",
    "import Control.Monad.Writer\n",
    "import Control.Monad.Identity\n",
    "import Control.Monad.State\n",
    "import Control.Monad.Reader\n",
    "import Control.Monad.Trans.Maybe\n",
    "import Control.Applicative\n",
    "import Data.List\n",
    "import Data.Tuple\n",
    "import Control.Monad.Logger\n",
    "import Data.Text (pack)"
   ]
  },
  {
   "cell_type": "code",
   "execution_count": 2,
   "metadata": {},
   "outputs": [],
   "source": [
    "{-# LANGUAGE RankNTypes, KindSignatures #-}\n",
    "replicateMUntil :: forall (m :: * -> *) a. Monad m => (m a -> m Bool) -> m a -> m [a]\n",
    "replicateMUntil f ma = do\n",
    "    res <- f ma\n",
    "    if res then liftM2 (:) ma (replicateMUntil f ma) else return []"
   ]
  },
  {
   "cell_type": "code",
   "execution_count": 3,
   "metadata": {},
   "outputs": [],
   "source": [
    "customLog :: MonadLogger m => String -> m ()\n",
    "customLog msg =  monadLoggerLog (Loc{loc_filename=\"./general.log\", loc_module=\"Graph Problems\", \n",
    "                loc_package=\"Graphs\", loc_start=(0,0), loc_end=(0,0)}) (pack \"log source\") \n",
    "                    LevelDebug  (toLogStr $ pack msg)"
   ]
  },
  {
   "cell_type": "code",
   "execution_count": null,
   "metadata": {},
   "outputs": [],
   "source": [
    "type Vertex = Int\n",
    "type Cost = Int\n",
    "data Edge = Edge { vertex:: Vertex, cost:: Cost } deriving (Eq, Show, Ord)"
   ]
  },
  {
   "cell_type": "code",
   "execution_count": null,
   "metadata": {},
   "outputs": [],
   "source": [
    "newtype Graph = Graph { adjacencyList :: Map.Map Vertex [Edge] } deriving (Eq, Show)"
   ]
  },
  {
   "cell_type": "code",
   "execution_count": null,
   "metadata": {
    "scrolled": true
   },
   "outputs": [],
   "source": [
    "constructGraph :: [(Vertex, Edge)] -> Graph\n",
    "constructGraph edges = Graph $ foldr (\\e g -> Map.insertWith (++) (fst e) [snd e] g) Map.empty edges"
   ]
  },
  {
   "cell_type": "code",
   "execution_count": null,
   "metadata": {},
   "outputs": [],
   "source": [
    "graph = constructGraph [(0, Edge 1 2), (1, Edge 0 2), (1, Edge 2 2), (2, Edge 1 2), (2, Edge 3 3),\n",
    "    (3, Edge 2 3), (1, Edge 3 2), (3, Edge 1 2), (0, Edge 3 1), (3, Edge 0 1), (0, Edge 4 1), (4, Edge 0 1)]\n",
    "    \n",
    "graph1 = constructGraph [(0, Edge 3 1), (0, Edge 4 1), (1, Edge 2 1), (2, Edge 1 1), (3, Edge 0 1), (3, Edge 6 1),\n",
    "    (4, Edge 0 1), (5, Edge 3 1), (5, Edge 6 1), (6, Edge 3 1), (6, Edge 5 1)]"
   ]
  },
  {
   "cell_type": "markdown",
   "metadata": {},
   "source": [
    "<h4>DFS and BFS</h4>"
   ]
  },
  {
   "cell_type": "code",
   "execution_count": null,
   "metadata": {
    "scrolled": true
   },
   "outputs": [],
   "source": [
    "getNeighbors :: Vertex -> Graph -> [Vertex]\n",
    "getNeighbors v g = fmap vertex (Map.findWithDefault [] v (adjacencyList g))\n",
    "\n",
    "filterVisitedNeighbors :: [Vertex] -> Set.Set Vertex -> [Vertex]\n",
    "filterVisitedNeighbors listVertices set = filter (\\x -> not (Set.member x set)) listVertices"
   ]
  },
  {
   "cell_type": "code",
   "execution_count": null,
   "metadata": {},
   "outputs": [],
   "source": [
    "bfs :: Vertex -> Graph -> [[Vertex]]\n",
    "bfs s g = go [s] [] g (Set.singleton s) [[s]]\n",
    "    where go :: [Vertex] -> [Vertex] -> Graph -> Set.Set Vertex -> [[Vertex]] -> [[Vertex]]\n",
    "          go [] [] g visited result = result\n",
    "          go [] nextLevel g visited result = go nextLevel [] g visited (result ++ [nextLevel])\n",
    "          go (x:xs) nextLevel g visited result = \n",
    "              go xs (nextLevel ++ unvisitedNeighbors x visited) g (Set.union visited (Set.fromList $ unvisitedNeighbors x visited)) result\n",
    "          unvisitedNeighbors x = filterVisitedNeighbors (getNeighbors x g)"
   ]
  },
  {
   "cell_type": "code",
   "execution_count": null,
   "metadata": {},
   "outputs": [],
   "source": [
    "bfsWithLogging :: Vertex -> Graph -> WriterT [String] Identity [[Vertex]]\n",
    "bfsWithLogging s g = go [s] [] g (Set.singleton s) [[s]]\n",
    "    where go :: [Vertex] -> [Vertex] -> Graph -> Set.Set Vertex -> [[Vertex]] -> WriterT [String] Identity [[Vertex]]\n",
    "          go [] [] g visited result = return result\n",
    "          go [] nextLevel g visited result = go nextLevel [] g visited (result ++ [nextLevel])\n",
    "          go (x:xs) nextLevel g visited result = do\n",
    "              tell [\"Visiting :\" ++ show x]\n",
    "              go xs (nextLevel ++ unvisitedNeighbors x visited) g (Set.union visited (Set.fromList $ unvisitedNeighbors x visited)) result\n",
    "          unvisitedNeighbors x = filterVisitedNeighbors (getNeighbors x g)"
   ]
  },
  {
   "cell_type": "code",
   "execution_count": null,
   "metadata": {},
   "outputs": [],
   "source": [
    "runIdentity . runWriterT $ bfsWithLogging 0 graph"
   ]
  },
  {
   "cell_type": "code",
   "execution_count": null,
   "metadata": {},
   "outputs": [],
   "source": [
    "type Env = (Graph, Set.Set Vertex)\n",
    "type DFSState = ([Vertex], Set.Set Vertex)\n",
    "type Stack = [Vertex]\n",
    "\n",
    "type DFSResult = ReaderT Env (MaybeT (StateT Vertex Identity)) DFSState"
   ]
  },
  {
   "cell_type": "code",
   "execution_count": null,
   "metadata": {},
   "outputs": [],
   "source": [
    "dfsNextVisit :: Stack -> DFSState -> Maybe ([Vertex], DFSState)\n",
    "dfsNextVisit [] _ = Nothing\n",
    "dfsNextVisit (x:xs) (g, visited) = if not (Set.member x visited) \n",
    "                                     then Just (x, (xs, Set.insert x visited))\n",
    "                                   else dfsNextVisit xs (g, visited)                            "
   ]
  },
  {
   "cell_type": "code",
   "execution_count": null,
   "metadata": {},
   "outputs": [],
   "source": [
    "dfs :: Vertex -> Graph -> [Vertex]\n",
    "dfs s g = go [s] g (Set.empty) []\n",
    "    where go :: Stack -> Graph -> Set.Set Vertex -> [Vertex] -> [Vertex]\n",
    "          go [] _ _ dfsTrail = dfsTrail\n",
    "          go (x:xs) g visited dfsTrail = if not (Set.member x visited)\n",
    "                                           then go ((getNeighbors x g) ++ xs) g (Set.insert x visited) (dfsTrail ++ [x])\n",
    "                                         else go xs g visited dfsTrail"
   ]
  },
  {
   "cell_type": "code",
   "execution_count": null,
   "metadata": {},
   "outputs": [],
   "source": [
    "type DFSState = ([Vertex], OSet.OSet Vertex)\n",
    "type Env = Graph\n",
    "type DFSNextState = ReaderT Env (StateT DFSState Identity) Int"
   ]
  },
  {
   "cell_type": "code",
   "execution_count": null,
   "metadata": {},
   "outputs": [],
   "source": [
    "{-# LANGUAGE FlexibleContexts #-}\n",
    "\n",
    "dfsGetNext :: DFSNextState\n",
    "dfsGetNext = do\n",
    "    graph <- ask\n",
    "    s <- get\n",
    "    let candidates = fst s\n",
    "    let visited = snd s\n",
    "    let ret = case candidates of\n",
    "                []     -> return 0 :: DFSNextState\n",
    "                (x:xs) -> if x `OSet.member` visited \n",
    "                            then put (xs, visited) >> (return 1 :: DFSNextState)\n",
    "                          else put (getNeighbors x graph ++ xs, x OSet.<| visited) >> (return 1 :: DFSNextState)\n",
    "    ret"
   ]
  },
  {
   "cell_type": "code",
   "execution_count": null,
   "metadata": {},
   "outputs": [],
   "source": [
    "isNextAvailable :: DFSNextState -> ReaderT Env (StateT DFSState Identity) Bool\n",
    "isNextAvailable nextState = do\n",
    "    s <- get\n",
    "    return (fst s /= [])"
   ]
  },
  {
   "cell_type": "code",
   "execution_count": null,
   "metadata": {},
   "outputs": [],
   "source": [
    "dfsStartState :: DFSState\n",
    "dfsStartState = ([0], OSet.empty)\n",
    "\n",
    "dfsSteps = replicateMUntil isNextAvailable dfsGetNext\n",
    "\n",
    "runStateT (runReaderT dfsSteps graph) dfsStartState"
   ]
  },
  {
   "cell_type": "code",
   "execution_count": null,
   "metadata": {},
   "outputs": [],
   "source": [
    "runStateT (runReaderT dfsSteps graph1) dfsStartState"
   ]
  },
  {
   "cell_type": "markdown",
   "metadata": {},
   "source": [
    "<h4>Topological Sort</h4>"
   ]
  },
  {
   "cell_type": "code",
   "execution_count": 4,
   "metadata": {},
   "outputs": [],
   "source": [
    "-- Let us define a more general graph, which can have any type of Vertex, rather than just enforcing it to be Int\n",
    "data GeneralEdge a b = GeneralEdge { general_vertex:: a, general_cost:: b } deriving (Eq, Show, Ord)\n",
    "\n",
    "data GeneralGraph a b = GeneralGraph { adjacencyList :: Map.Map a [GeneralEdge a b], \n",
    "                            incomingDegree :: Map.Map a Int } deriving (Eq, Show)"
   ]
  },
  {
   "cell_type": "code",
   "execution_count": 5,
   "metadata": {},
   "outputs": [],
   "source": [
    "addDirectedEdges (a, e) (m, m') = (Map.insertWith (++) a [e] m, \n",
    "                                    Map.insertWith (+) (general_vertex e) 1 (Map.insertWith (+) a 0 m'))\n",
    "\n",
    "constructGeneralDirectedGraph :: (Ord a, Num b) => [(a, GeneralEdge a b)] -> GeneralGraph a b\n",
    "constructGeneralDirectedGraph edges = uncurry GeneralGraph (foldr addDirectedEdges (Map.empty, Map.empty) edges)"
   ]
  },
  {
   "cell_type": "code",
   "execution_count": 6,
   "metadata": {},
   "outputs": [],
   "source": [
    "addUndirectedEdges (a, e) (m, m') = (Map.insertWith (++) (general_vertex e) [GeneralEdge a (general_cost e)] \n",
    "                                        (Map.insertWith (++) a [e] m),\n",
    "                                    Map.insertWith (+) a 1 (Map.insertWith (+) (general_vertex e) 1 m'))\n",
    "\n",
    "constructGeneralUndirectedGraph :: (Ord a, Num b) => [(a, GeneralEdge a b)] -> GeneralGraph a b\n",
    "constructGeneralUndirectedGraph edges = uncurry GeneralGraph (foldr addUndirectedEdges (Map.empty, Map.empty) edges)"
   ]
  },
  {
   "cell_type": "code",
   "execution_count": 7,
   "metadata": {},
   "outputs": [],
   "source": [
    "graph' = constructGeneralDirectedGraph [(0, GeneralEdge 1 1), (0, GeneralEdge 2 1), (0, GeneralEdge 3 1)]"
   ]
  },
  {
   "cell_type": "code",
   "execution_count": 8,
   "metadata": {},
   "outputs": [],
   "source": [
    "getStartVertex :: GeneralGraph a b -> Maybe a\n",
    "getStartVertex g = fmap fst (find (\\(k, d) -> d == 0) (Map.toList $ incomingDegree g))"
   ]
  },
  {
   "cell_type": "code",
   "execution_count": 9,
   "metadata": {},
   "outputs": [],
   "source": [
    "type TSortState a = ([a], Map.Map a Int)\n",
    "type GEnv a b = GeneralGraph a b\n",
    "type TSortNextState a b = ReaderT (GEnv a b) (WriterT [String] (StateT (TSortState a) Identity)) (Maybe a)"
   ]
  },
  {
   "cell_type": "code",
   "execution_count": 10,
   "metadata": {},
   "outputs": [],
   "source": [
    "tSortNextState :: (Show a, Ord a) => TSortNextState a b\n",
    "tSortNextState = do\n",
    "    graph <- ask\n",
    "    (candidates, degreesMap) <- get\n",
    "    case candidates of\n",
    "        []     -> tell [\"No more candidates!\"] >> return Nothing\n",
    "        (x:xs) -> tell [\"Choosing candidate : \" ++ show x] >>\n",
    "                  put (xs ++ newVerticesWithZeroIncomingDegree, updatedDegreesMap) >>\n",
    "                  return (Just x)\n",
    "                    where (newVerticesWithZeroIncomingDegree, updatedDegreesMap) =\n",
    "                            foldr (\\(GeneralEdge v _) (c, m) -> (if m Map.! v == 1 then c ++ [v] \n",
    "                                else c, Map.insertWith (+) v (-1) m)) ([], degreesMap) \n",
    "                                    (Map.findWithDefault [] x (adjacencyList graph))"
   ]
  },
  {
   "cell_type": "code",
   "execution_count": 11,
   "metadata": {},
   "outputs": [],
   "source": [
    "isNextAvailableForTSort :: Ord a => TSortNextState a b \n",
    "                    -> ReaderT (GEnv a b) (WriterT [String] (StateT (TSortState a) Identity)) Bool\n",
    "isNextAvailableForTSort nextState = do\n",
    "    s <- get\n",
    "    return (fst s /= [])"
   ]
  },
  {
   "cell_type": "code",
   "execution_count": 12,
   "metadata": {},
   "outputs": [],
   "source": [
    "topologicalSort graph = fmap (runStateT (runWriterT (runReaderT tSortSteps graph))) tSortStartState\n",
    "    where tSortSteps = replicateMUntil isNextAvailableForTSort tSortNextState\n",
    "          tSortStartState = fmap (\\x -> ([x], incomingDegree graph)) (getStartVertex graph)"
   ]
  },
  {
   "cell_type": "code",
   "execution_count": 13,
   "metadata": {},
   "outputs": [
    {
     "data": {
      "text/plain": [
       "Just (Identity (([Just 0,Just 3,Just 2,Just 1],[\"Choosing candidate : 0\",\"Choosing candidate : 3\",\"Choosing candidate : 2\",\"Choosing candidate : 1\"]),([],fromList [(0,0),(1,0),(2,0),(3,0)])))"
      ]
     },
     "metadata": {},
     "output_type": "display_data"
    }
   ],
   "source": [
    "topologicalSort graph'"
   ]
  },
  {
   "cell_type": "code",
   "execution_count": 14,
   "metadata": {},
   "outputs": [],
   "source": [
    "graph'' = constructGeneralDirectedGraph [(0, GeneralEdge 1 1), (0, GeneralEdge 2 1), (1, GeneralEdge 2 1),\n",
    "        (2, GeneralEdge 3 1), (3, GeneralEdge 4 1), (3, GeneralEdge 5 1), (4, GeneralEdge 5 1)]"
   ]
  },
  {
   "cell_type": "code",
   "execution_count": 15,
   "metadata": {},
   "outputs": [
    {
     "data": {
      "text/plain": [
       "Just (Identity (([Just 0,Just 1,Just 2,Just 3,Just 4,Just 5],[\"Choosing candidate : 0\",\"Choosing candidate : 1\",\"Choosing candidate : 2\",\"Choosing candidate : 3\",\"Choosing candidate : 4\",\"Choosing candidate : 5\"]),([],fromList [(0,0),(1,0),(2,0),(3,0),(4,0),(5,0)])))"
      ]
     },
     "metadata": {},
     "output_type": "display_data"
    }
   ],
   "source": [
    "topologicalSort graph''"
   ]
  },
  {
   "cell_type": "markdown",
   "metadata": {},
   "source": [
    "<h4>Kruskal's Algorithm</h4>"
   ]
  },
  {
   "cell_type": "code",
   "execution_count": 17,
   "metadata": {},
   "outputs": [],
   "source": [
    "import Data.Array.IArray\n",
    "import Data.Ix\n",
    "import Data.Tuple\n",
    "import Control.Monad.Error\n",
    "import qualified Data.OrdPSQ as OrdPSQ\n",
    "import Data.Maybe\n",
    "import Data.Either\n",
    "import qualified Data.Set as Set"
   ]
  },
  {
   "cell_type": "code",
   "execution_count": 51,
   "metadata": {},
   "outputs": [],
   "source": [
    "fst3 :: (a,b,c) -> a\n",
    "fst3 (x,_,_) = x\n",
    "\n",
    "snd3 :: (a, b, c) -> b\n",
    "snd3 (_, y, _) = y"
   ]
  },
  {
   "cell_type": "code",
   "execution_count": null,
   "metadata": {},
   "outputs": [],
   "source": [
    "data UnionFind a = UnionFind { unionSetName :: Array a a, unionSetSize :: Array a Int } deriving Show"
   ]
  },
  {
   "cell_type": "code",
   "execution_count": null,
   "metadata": {},
   "outputs": [],
   "source": [
    "initializeUnionFind :: (Enum a, Ix a) => (a, a) -> UnionFind a\n",
    "initializeUnionFind (lower, upper) = UnionFind (array (lower, upper) (fmap (\\x -> (x, x)) [lower..upper]))\n",
    "    (array (lower, upper) (fmap (\\x -> (x, 1)) [lower..upper]))"
   ]
  },
  {
   "cell_type": "code",
   "execution_count": null,
   "metadata": {},
   "outputs": [],
   "source": [
    "unionOfUnionFinds :: (Enum a, Ix a) => UnionFind a -> a -> a -> UnionFind a\n",
    "unionOfUnionFinds uf c1 c2\n",
    "    | sizeArr ! c1 > sizeArr ! c2 = UnionFind (nameArr // [(c2, nameArr ! c1)]) \n",
    "        (sizeArr // [(c1, (sizeArr ! c1) + (sizeArr ! c2))])\n",
    "    | otherwise                   = UnionFind (nameArr // [(c1, nameArr ! c2)]) \n",
    "        (sizeArr // [(c2, (sizeArr ! c1) + (sizeArr ! c2))])\n",
    "    where nameArr = unionSetName uf\n",
    "          sizeArr = unionSetSize uf\n",
    "          (lowerBound, upperBound) = bounds nameArr"
   ]
  },
  {
   "cell_type": "code",
   "execution_count": null,
   "metadata": {},
   "outputs": [],
   "source": [
    "data UnionFindResult a = UnionFindResult { parent :: a, updatedUnionFind :: UnionFind a }\n",
    "\n",
    "findInUnionFind :: (Enum a, Ix a) => UnionFind a -> a -> UnionFindResult a\n",
    "findInUnionFind uf c = UnionFindResult parent (updateUnionFindWithParent uf parent c)\n",
    "    where parent = findParentComponent uf c\n",
    "          (lowerBound, upperBound) = bounds $ unionSetName uf\n",
    "          findParentComponent uf c\n",
    "              | c == unionSetName uf ! c = c\n",
    "              | otherwise                = findParentComponent uf (unionSetName uf ! c)\n",
    "          updateUnionFindWithParent uf p c\n",
    "              | p == unionSetName uf ! c = uf\n",
    "              | otherwise                = updateUnionFindWithParent (UnionFind (unionSetName uf // [(c, p)])\n",
    "                                                  (unionSetSize uf)) p c"
   ]
  },
  {
   "cell_type": "code",
   "execution_count": null,
   "metadata": {},
   "outputs": [],
   "source": [
    "initializeEdgesPriorityQueue :: (Ord a, Ord b) => GeneralGraph a b -> OrdPSQ.OrdPSQ (a, a) b b\n",
    "initializeEdgesPriorityQueue graph = Map.foldrWithKey foldEdgeList OrdPSQ.empty (adjacencyList graph)\n",
    "    where foldEdgeList v edgeList pq = foldr (\\e pq -> OrdPSQ.insert (v, general_vertex e) (general_cost e) \n",
    "                                            (general_cost e) pq) pq edgeList"
   ]
  },
  {
   "cell_type": "code",
   "execution_count": null,
   "metadata": {},
   "outputs": [],
   "source": [
    "type KruskalMSTState a b = ([(a, a)], OrdPSQ.OrdPSQ (a, a) b b, UnionFind a)\n",
    "type KruskalEnv a b = GeneralGraph a b\n",
    "type KruskalMSTNextState a b = ReaderT (KruskalEnv a b) (WriterT [String] (StateT \n",
    "                                (KruskalMSTState a b) Identity)) Bool"
   ]
  },
  {
   "cell_type": "code",
   "execution_count": null,
   "metadata": {},
   "outputs": [],
   "source": [
    "unionFindAndUpdate :: (Ix a, Enum a) => (a, a) -> UnionFind a -> (a, a, UnionFind a)\n",
    "unionFindAndUpdate edge uf = let UnionFindResult c1 uf'  = findInUnionFind uf  (fst edge)\n",
    "                                 UnionFindResult c2 uf'' = findInUnionFind uf' (snd edge)\n",
    "                             in (c1, c2, uf'')"
   ]
  },
  {
   "cell_type": "code",
   "execution_count": null,
   "metadata": {},
   "outputs": [],
   "source": [
    "kruskalMSTNextState :: (Ord b, Ix a, Enum a, Ord a, Show a) => KruskalMSTNextState a b\n",
    "kruskalMSTNextState = do\n",
    "    graph <- ask\n",
    "    (edges, pq, uf) <- get\n",
    "    case OrdPSQ.null pq of\n",
    "        True -> return False\n",
    "        False  -> if c1 /= c2\n",
    "                    then tell [\"Choosing edge: \" ++ show edge] >> \n",
    "                            put (edges ++ [edge], OrdPSQ.deleteMin pq, unionOfUnionFinds uf'' c1 c2) >>\n",
    "                            return True\n",
    "                    else tell [\"Discarding edge: \" ++ show edge] >>\n",
    "                            put (edges, OrdPSQ.deleteMin pq, uf'') >>\n",
    "                            return True\n",
    "                    where\n",
    "                        (c1, c2, uf'') = unionFindAndUpdate edge uf\n",
    "                        edge = fst3 (fromJust $ OrdPSQ.findMin pq)"
   ]
  },
  {
   "cell_type": "code",
   "execution_count": null,
   "metadata": {},
   "outputs": [],
   "source": [
    "isNextAvailableForKruskal :: Ord a => KruskalMSTNextState a b -> KruskalMSTNextState a b\n",
    "isNextAvailableForKruskal nextState = not . OrdPSQ.null . snd3 <$> get"
   ]
  },
  {
   "cell_type": "code",
   "execution_count": null,
   "metadata": {},
   "outputs": [],
   "source": [
    "kruskalMST graph = runStateT (runWriterT (runReaderT kruskalSteps graph)) kruskalStartState\n",
    "    where kruskalSteps      = replicateMUntil isNextAvailableForKruskal kruskalMSTNextState\n",
    "          kruskalStartState = ([], initializeEdgesPriorityQueue graph, \n",
    "                                  initializeUnionFind (fst lowerBound, fst upperBound))\n",
    "          orderedKeyList    = Map.toAscList $ adjacencyList graph\n",
    "          lowerBound        = head orderedKeyList\n",
    "          upperBound        = last orderedKeyList"
   ]
  },
  {
   "cell_type": "code",
   "execution_count": null,
   "metadata": {},
   "outputs": [],
   "source": [
    "graph''' = constructGeneralDirectedGraph [(0, GeneralEdge 1 2), (0, GeneralEdge 2 4), (0, GeneralEdge 3 8),\n",
    "                (1, GeneralEdge 0 1), (1, GeneralEdge 2 3), (1, GeneralEdge 3 7), (3, GeneralEdge 2 2)]\n",
    "\n",
    "kruskalMST graph'''"
   ]
  },
  {
   "cell_type": "code",
   "execution_count": null,
   "metadata": {},
   "outputs": [],
   "source": [
    "graph'''' = constructGeneralUndirectedGraph [(0, GeneralEdge 1 10), (1, GeneralEdge 3 5), (1, GeneralEdge 2 10),\n",
    "                (2, GeneralEdge 4 7), (3, GeneralEdge 4 5), (4, GeneralEdge 5 15)]\n",
    "                \n",
    "kruskalMST graph''''"
   ]
  },
  {
   "cell_type": "markdown",
   "metadata": {},
   "source": [
    "<h4>Prim's Algorithm</h4>"
   ]
  },
  {
   "cell_type": "code",
   "execution_count": 49,
   "metadata": {},
   "outputs": [],
   "source": [
    "type PrimMSTState a b = ([(a, a)], OrdPSQ.OrdPSQ (a, a) b b, Set.Set a)\n",
    "type PrimEnv a b = GeneralGraph a b"
   ]
  },
  {
   "cell_type": "code",
   "execution_count": 50,
   "metadata": {},
   "outputs": [],
   "source": [
    "type PrimMSTNextState a b = ReaderT (PrimEnv a b) (LoggingT (StateT (PrimMSTState a b) IO)) Bool"
   ]
  },
  {
   "cell_type": "code",
   "execution_count": 40,
   "metadata": {},
   "outputs": [],
   "source": [
    "checkIfMinIsValid :: (Ord a) => OrdPSQ.OrdPSQ (a, a) b b -> Set.Set a -> Maybe Bool\n",
    "checkIfMinIsValid pq visited = fmap (not . flip Set.member visited . snd . fst3) (OrdPSQ.findMin pq)\n",
    "\n",
    "updatePrimPQ :: (Ord a, Ord b) => GeneralGraph a b -> OrdPSQ.OrdPSQ (a, a) b b -> Set.Set a -> a -> OrdPSQ.OrdPSQ (a, a) b b\n",
    "updatePrimPQ graph pq visited v = foldr (\\edge pq' -> if Set.member (general_vertex edge) visited then pq' \n",
    "            else OrdPSQ.insert (v, general_vertex edge) (general_cost edge) (general_cost edge) pq') pq \n",
    "                (adjacencyList graph Map.! v)\n",
    "                \n",
    "fromMaybeBool :: Maybe Bool -> Bool\n",
    "fromMaybeBool Nothing = False\n",
    "fromMaybeBool (Just x) = x"
   ]
  },
  {
   "cell_type": "code",
   "execution_count": 43,
   "metadata": {},
   "outputs": [],
   "source": [
    "primMSTNextState :: (Ord a, Show a, Ord b) => PrimMSTNextState a b\n",
    "primMSTNextState = do\n",
    "    graph <- ask\n",
    "    (edges, pq, visited) <- lift $ lift get\n",
    "    case OrdPSQ.null pq of\n",
    "        True -> return False\n",
    "        False  -> if fromMaybeBool $ checkIfMinIsValid pq visited\n",
    "                    then lift (customLog $ \"Choosing edge: \" ++ show edge) >>\n",
    "                            lift (lift $ put (edges ++ [edge], updatePrimPQ graph (OrdPSQ.deleteMin pq) visited (snd edge), \n",
    "                                Set.insert (snd edge) visited)) >>\n",
    "                            return True\n",
    "                    else lift (customLog $ \"Discarding edge: \" ++ show edge) >>\n",
    "                            lift (lift $ put (edges, OrdPSQ.deleteMin pq, visited)) >>\n",
    "                            return True\n",
    "                    where\n",
    "                        edge = fst3 (fromJust $ OrdPSQ.findMin pq)"
   ]
  },
  {
   "cell_type": "code",
   "execution_count": 56,
   "metadata": {},
   "outputs": [
    {
     "data": {
      "text/html": [
       "<style>/* Styles used for the Hoogle display in the pager */\n",
       ".hoogle-doc {\n",
       "display: block;\n",
       "padding-bottom: 1.3em;\n",
       "padding-left: 0.4em;\n",
       "}\n",
       ".hoogle-code {\n",
       "display: block;\n",
       "font-family: monospace;\n",
       "white-space: pre;\n",
       "}\n",
       ".hoogle-text {\n",
       "display: block;\n",
       "}\n",
       ".hoogle-name {\n",
       "color: green;\n",
       "font-weight: bold;\n",
       "}\n",
       ".hoogle-head {\n",
       "font-weight: bold;\n",
       "}\n",
       ".hoogle-sub {\n",
       "display: block;\n",
       "margin-left: 0.4em;\n",
       "}\n",
       ".hoogle-package {\n",
       "font-weight: bold;\n",
       "font-style: italic;\n",
       "}\n",
       ".hoogle-module {\n",
       "font-weight: bold;\n",
       "}\n",
       ".hoogle-class {\n",
       "font-weight: bold;\n",
       "}\n",
       ".get-type {\n",
       "color: green;\n",
       "font-weight: bold;\n",
       "font-family: monospace;\n",
       "display: block;\n",
       "white-space: pre-wrap;\n",
       "}\n",
       ".show-type {\n",
       "color: green;\n",
       "font-weight: bold;\n",
       "font-family: monospace;\n",
       "margin-left: 1em;\n",
       "}\n",
       ".mono {\n",
       "font-family: monospace;\n",
       "display: block;\n",
       "}\n",
       ".err-msg {\n",
       "color: red;\n",
       "font-style: italic;\n",
       "font-family: monospace;\n",
       "white-space: pre;\n",
       "display: block;\n",
       "}\n",
       "#unshowable {\n",
       "color: red;\n",
       "font-weight: bold;\n",
       "}\n",
       ".err-msg.in.collapse {\n",
       "padding-top: 0.7em;\n",
       "}\n",
       ".highlight-code {\n",
       "white-space: pre;\n",
       "font-family: monospace;\n",
       "}\n",
       ".suggestion-warning { \n",
       "font-weight: bold;\n",
       "color: rgb(200, 130, 0);\n",
       "}\n",
       ".suggestion-error { \n",
       "font-weight: bold;\n",
       "color: red;\n",
       "}\n",
       ".suggestion-name {\n",
       "font-weight: bold;\n",
       "}\n",
       "</style><div class=\"suggestion-name\" style=\"clear:both;\">Move brackets to avoid $</div><div class=\"suggestion-row\" style=\"float: left;\"><div class=\"suggestion-warning\">Found:</div><div class=\"highlight-code\" id=\"haskell\">not . OrdPSQ.null . snd3 <\\$> (lift \\$ lift get)</div></div><div class=\"suggestion-row\" style=\"float: left;\"><div class=\"suggestion-warning\">Why Not:</div><div class=\"highlight-code\" id=\"haskell\">not . OrdPSQ.null . snd3 <\\$> lift (lift get)</div></div>"
      ],
      "text/plain": [
       "Line 2: Move brackets to avoid $\n",
       "Found:\n",
       "not . OrdPSQ.null . snd3 <$> (lift $ lift get)\n",
       "Why not:\n",
       "not . OrdPSQ.null . snd3 <$> lift (lift get)"
      ]
     },
     "metadata": {},
     "output_type": "display_data"
    }
   ],
   "source": [
    "isNextAvailableForPrim :: Ord a => PrimMSTNextState a b -> PrimMSTNextState a b\n",
    "isNextAvailableForPrim nextState = not . OrdPSQ.null . snd3 <$> (lift $ lift get)"
   ]
  },
  {
   "cell_type": "code",
   "execution_count": 46,
   "metadata": {},
   "outputs": [
    {
     "ename": "",
     "evalue": "",
     "output_type": "error",
     "traceback": [
      "<interactive>:1:52: error:\n    • Couldn't match expected type ‘LoggingT (WriterT w (StateT ([a1], OrdPSQ.OrdPSQ (k, k) b b, Set.Set k) m)) a’\n                  with actual type ‘ReaderT (PrimEnv () ()) (LoggingT (StateT (PrimMSTState () ()) IO)) [Bool]’\n    • In the first argument of ‘runLoggingT’, namely ‘primSteps’\n      In the first argument of ‘runWriterT’, namely ‘(runLoggingT primSteps graph)’\n      In the first argument of ‘runStateT’, namely ‘(runWriterT (runLoggingT primSteps graph))’\n    • Relevant bindings include\n        primStartStep :: forall a. ([a], OrdPSQ.OrdPSQ (k, k) b b, Set.Set k) (bound at <interactive>:3:11)\n        lowerBound :: k (bound at <interactive>:5:11)\n        orderedKeyList :: [(k, [GeneralEdge k b0])] (bound at <interactive>:4:11)\n        primMST :: (Loc -> LogSource -> LogLevel -> LogStr -> IO ()) -> m ((a, w), ([a1], OrdPSQ.OrdPSQ (k, k) b b, Set.Set k)) (bound at <interactive>:1:1)\n<interactive>:4:61: error:\n    • Couldn't match expected type ‘GeneralGraph k b0’ with actual type ‘Loc -> LogSource -> LogLevel -> LogStr -> IO ()’\n    • Probable cause: ‘graph’ is applied to too few arguments\n      In the first argument of ‘adjacencyList’, namely ‘graph’\n      In the second argument of ‘($)’, namely ‘adjacencyList graph’\n      In the expression: Map.toAscList $ adjacencyList graph\n    • Relevant bindings include\n        orderedKeyList :: [(k, [GeneralEdge k b0])] (bound at <interactive>:4:11)\n        primMST :: (Loc -> LogSource -> LogLevel -> LogStr -> IO ()) -> m ((a, w), ([a1], OrdPSQ.OrdPSQ (k, k) b b, Set.Set k)) (bound at <interactive>:1:1)\n<interactive>:3:49: error:\n    • Couldn't match expected type ‘GeneralGraph k b’ with actual type ‘Loc -> LogSource -> LogLevel -> LogStr -> IO ()’\n    • Probable cause: ‘graph’ is applied to too few arguments\n      In the first argument of ‘updatePrimPQ’, namely ‘graph’\n      In the expression: updatePrimPQ graph OrdPSQ.empty Set.empty lowerBound\n      In the expression: ([], updatePrimPQ graph OrdPSQ.empty Set.empty lowerBound, Set.singleton lowerBound)\n    • Relevant bindings include\n        primStartStep :: ([a2], OrdPSQ.OrdPSQ (k, k) b b, Set.Set k) (bound at <interactive>:3:11)\n        lowerBound :: k (bound at <interactive>:5:11)\n        orderedKeyList :: [(k, [GeneralEdge k b0])] (bound at <interactive>:4:11)\n        primMST :: (Loc -> LogSource -> LogLevel -> LogStr -> IO ()) -> m ((a, w), ([a1], OrdPSQ.OrdPSQ (k, k) b b, Set.Set k)) (bound at <interactive>:1:1)"
     ]
    }
   ],
   "source": [
    "-- primMST :: (Show a, Enum a, Ix a, Ord b) => PrimEnv a b -> Identity (([Bool], [String]), PrimMSTState a b)\n",
    "primMST graph = runStateT (runWriterT (runLoggingT primSteps graph)) primStartStep\n",
    "    where primSteps         = replicateMUntil isNextAvailableForPrim primMSTNextState\n",
    "          primStartStep     = ([], updatePrimPQ graph OrdPSQ.empty Set.empty lowerBound, Set.singleton lowerBound)\n",
    "          orderedKeyList    = Map.toAscList $ adjacencyList graph\n",
    "          lowerBound        = fst (head orderedKeyList)"
   ]
  },
  {
   "cell_type": "code",
   "execution_count": null,
   "metadata": {},
   "outputs": [],
   "source": [
    "primMST graph''''"
   ]
  },
  {
   "cell_type": "markdown",
   "metadata": {},
   "source": [
    "<h4>Dijkstra's Algorithm</h4>"
   ]
  },
  {
   "cell_type": "code",
   "execution_count": 53,
   "metadata": {},
   "outputs": [
    {
     "data": {
      "text/html": [
       "<style>/* Styles used for the Hoogle display in the pager */\n",
       ".hoogle-doc {\n",
       "display: block;\n",
       "padding-bottom: 1.3em;\n",
       "padding-left: 0.4em;\n",
       "}\n",
       ".hoogle-code {\n",
       "display: block;\n",
       "font-family: monospace;\n",
       "white-space: pre;\n",
       "}\n",
       ".hoogle-text {\n",
       "display: block;\n",
       "}\n",
       ".hoogle-name {\n",
       "color: green;\n",
       "font-weight: bold;\n",
       "}\n",
       ".hoogle-head {\n",
       "font-weight: bold;\n",
       "}\n",
       ".hoogle-sub {\n",
       "display: block;\n",
       "margin-left: 0.4em;\n",
       "}\n",
       ".hoogle-package {\n",
       "font-weight: bold;\n",
       "font-style: italic;\n",
       "}\n",
       ".hoogle-module {\n",
       "font-weight: bold;\n",
       "}\n",
       ".hoogle-class {\n",
       "font-weight: bold;\n",
       "}\n",
       ".get-type {\n",
       "color: green;\n",
       "font-weight: bold;\n",
       "font-family: monospace;\n",
       "display: block;\n",
       "white-space: pre-wrap;\n",
       "}\n",
       ".show-type {\n",
       "color: green;\n",
       "font-weight: bold;\n",
       "font-family: monospace;\n",
       "margin-left: 1em;\n",
       "}\n",
       ".mono {\n",
       "font-family: monospace;\n",
       "display: block;\n",
       "}\n",
       ".err-msg {\n",
       "color: red;\n",
       "font-style: italic;\n",
       "font-family: monospace;\n",
       "white-space: pre;\n",
       "display: block;\n",
       "}\n",
       "#unshowable {\n",
       "color: red;\n",
       "font-weight: bold;\n",
       "}\n",
       ".err-msg.in.collapse {\n",
       "padding-top: 0.7em;\n",
       "}\n",
       ".highlight-code {\n",
       "white-space: pre;\n",
       "font-family: monospace;\n",
       "}\n",
       ".suggestion-warning { \n",
       "font-weight: bold;\n",
       "color: rgb(200, 130, 0);\n",
       "}\n",
       ".suggestion-error { \n",
       "font-weight: bold;\n",
       "color: red;\n",
       "}\n",
       ".suggestion-name {\n",
       "font-weight: bold;\n",
       "}\n",
       "</style><span class='get-type'>get :: forall s (m :: * -> *). MonadState s m => m s</span>"
      ],
      "text/plain": [
       "get :: forall s (m :: * -> *). MonadState s m => m s"
      ]
     },
     "metadata": {},
     "output_type": "display_data"
    }
   ],
   "source": [
    ":t get"
   ]
  },
  {
   "cell_type": "code",
   "execution_count": null,
   "metadata": {},
   "outputs": [],
   "source": []
  }
 ],
 "metadata": {
  "kernelspec": {
   "display_name": "Haskell",
   "language": "haskell",
   "name": "haskell"
  },
  "language_info": {
   "codemirror_mode": "ihaskell",
   "file_extension": ".hs",
   "name": "haskell",
   "pygments_lexer": "Haskell",
   "version": "8.8.3"
  }
 },
 "nbformat": 4,
 "nbformat_minor": 2
}

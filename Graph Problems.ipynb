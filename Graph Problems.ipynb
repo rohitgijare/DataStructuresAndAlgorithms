{
 "cells": [
  {
   "cell_type": "code",
   "execution_count": 25,
   "metadata": {},
   "outputs": [],
   "source": [
    "import qualified Data.Map as Map\n",
    "import qualified Data.Set as Set\n",
    "import Control.Monad.Writer\n",
    "import Control.Monad.Identity\n",
    "import Control.Monad.State\n",
    "import Control.Monad.Reader\n",
    "import Control.Monad.Trans.Maybe"
   ]
  },
  {
   "cell_type": "code",
   "execution_count": 2,
   "metadata": {},
   "outputs": [],
   "source": [
    "type Vertex = Int\n",
    "type Cost = Int\n",
    "data Edge = Edge { vertex:: Vertex, cost:: Cost } deriving (Eq, Show, Ord)"
   ]
  },
  {
   "cell_type": "code",
   "execution_count": 3,
   "metadata": {},
   "outputs": [],
   "source": [
    "newtype Graph = Graph { adjacencyList :: Map.Map Vertex [Edge] } deriving (Eq, Show)"
   ]
  },
  {
   "cell_type": "code",
   "execution_count": 4,
   "metadata": {
    "scrolled": true
   },
   "outputs": [],
   "source": [
    "constructGraph :: [(Vertex, Edge)] -> Graph\n",
    "constructGraph edges = Graph $ foldr (\\e g -> Map.insertWith (++) (fst e) [(snd e)] g) Map.empty edges"
   ]
  },
  {
   "cell_type": "code",
   "execution_count": 5,
   "metadata": {},
   "outputs": [],
   "source": [
    "graph = constructGraph [(0, Edge 1 2), (1, Edge 0 2), (1, Edge 2 2), (2, Edge 1 2), (2, Edge 3 3),\n",
    "    (3, Edge 2 3), (1, Edge 3 2), (3, Edge 1 2), (0, Edge 3 1), (3, Edge 0 1), (0, Edge 4 1), (4, Edge 0 1)]"
   ]
  },
  {
   "cell_type": "markdown",
   "metadata": {},
   "source": [
    "<h4>DFS and BFS</h4>"
   ]
  },
  {
   "cell_type": "code",
   "execution_count": 6,
   "metadata": {
    "scrolled": true
   },
   "outputs": [],
   "source": [
    "getNeighbors :: Vertex -> Graph -> [Vertex]\n",
    "getNeighbors v g = fmap vertex (Map.findWithDefault [] v (adjacencyList g))\n",
    "\n",
    "filterVisitedNeighbors :: [Vertex] -> Set.Set Vertex -> [Vertex]\n",
    "filterVisitedNeighbors listVertices set = filter (\\x -> not (Set.member x set)) listVertices"
   ]
  },
  {
   "cell_type": "code",
   "execution_count": 8,
   "metadata": {},
   "outputs": [],
   "source": [
    "bfs :: Vertex -> Graph -> [[Vertex]]\n",
    "bfs s g = go [s] [] g (Set.singleton s) [[s]]\n",
    "    where go :: [Vertex] -> [Vertex] -> Graph -> Set.Set Vertex -> [[Vertex]] -> [[Vertex]]\n",
    "          go [] [] g visited result = result\n",
    "          go [] nextLevel g visited result = go nextLevel [] g visited (result ++ [nextLevel])\n",
    "          go (x:xs) nextLevel g visited result = \n",
    "              go xs (nextLevel ++ (unvisitedNeighbors x visited)) g (Set.union visited (Set.fromList $ unvisitedNeighbors x visited)) result\n",
    "          unvisitedNeighbors x visited = filterVisitedNeighbors (getNeighbors x g) visited"
   ]
  },
  {
   "cell_type": "code",
   "execution_count": 9,
   "metadata": {},
   "outputs": [],
   "source": [
    "bfsWithLogging :: Vertex -> Graph -> WriterT [String] Identity [[Vertex]]\n",
    "bfsWithLogging s g = go [s] [] g (Set.singleton s) [[s]]\n",
    "    where go :: [Vertex] -> [Vertex] -> Graph -> Set.Set Vertex -> [[Vertex]] -> WriterT [String] Identity [[Vertex]]\n",
    "          go [] [] g visited result = return result\n",
    "          go [] nextLevel g visited result = go nextLevel [] g visited (result ++ [nextLevel])\n",
    "          go (x:xs) nextLevel g visited result = do\n",
    "              tell [\"Visiting :\" ++ show x]\n",
    "              go xs (nextLevel ++ (unvisitedNeighbors x visited)) g (Set.union visited (Set.fromList $ unvisitedNeighbors x visited)) result\n",
    "          unvisitedNeighbors x visited = filterVisitedNeighbors (getNeighbors x g) visited"
   ]
  },
  {
   "cell_type": "code",
   "execution_count": 10,
   "metadata": {},
   "outputs": [
    {
     "data": {
      "text/plain": [
       "([[0],[1,3,4],[2]],[\"Visiting :0\",\"Visiting :1\",\"Visiting :3\",\"Visiting :4\",\"Visiting :2\"])"
      ]
     },
     "metadata": {},
     "output_type": "display_data"
    }
   ],
   "source": [
    "runIdentity . runWriterT $ bfsWithLogging 0 graph"
   ]
  },
  {
   "cell_type": "code",
   "execution_count": 40,
   "metadata": {},
   "outputs": [],
   "source": [
    "type Env = (Graph, Set.Set Vertex)\n",
    "type DFSState = ([Vertex], Set.Set Vertex)\n",
    "type Stack = [Vertex]\n",
    "\n",
    "type DFSResult = ReaderT Env (MaybeT (StateT Vertex Identity)) DFSState"
   ]
  },
  {
   "cell_type": "code",
   "execution_count": 49,
   "metadata": {},
   "outputs": [],
   "source": [
    "dfsNextVisit :: Stack -> DFSState -> Maybe ([Vertex], DFSState)\n",
    "dfsNextVisit [] _ = Nothing\n",
    "dfsNextVisit (x:xs) (g, visited) = if not (Set.member x visited) \n",
    "                                     then Just (x, (xs, Set.insert x visited))\n",
    "                                   else dfsNextVisit xs (g, visited)                            "
   ]
  },
  {
   "cell_type": "code",
   "execution_count": 51,
   "metadata": {},
   "outputs": [],
   "source": [
    "dfs :: Vertex -> Graph -> [Vertex]\n",
    "dfs s g = go [s] g (Set.empty) []\n",
    "    where go :: Stack -> Graph -> Set.Set Vertex -> [Vertex] -> [Vertex]\n",
    "          go [] _ _ dfsTrail = dfsTrail\n",
    "          go (x:xs) g visited dfsTrail = if not (Set.member x visited)\n",
    "                                           then go ((getNeighbors x g) ++ xs) g (Set.insert x visited) (dfsTrail ++ [x])\n",
    "                                         else go xs g visited dfsTrail"
   ]
  },
  {
   "cell_type": "code",
   "execution_count": 52,
   "metadata": {},
   "outputs": [
    {
     "data": {
      "text/plain": [
       "[0,1,2,3,4]"
      ]
     },
     "metadata": {},
     "output_type": "display_data"
    }
   ],
   "source": [
    "dfs 0 graph"
   ]
  },
  {
   "cell_type": "code",
   "execution_count": null,
   "metadata": {},
   "outputs": [],
   "source": []
  }
 ],
 "metadata": {
  "kernelspec": {
   "display_name": "Haskell",
   "language": "haskell",
   "name": "haskell"
  },
  "language_info": {
   "codemirror_mode": "ihaskell",
   "file_extension": ".hs",
   "name": "haskell",
   "pygments_lexer": "Haskell",
   "version": "8.4.4"
  }
 },
 "nbformat": 4,
 "nbformat_minor": 2
}

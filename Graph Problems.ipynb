{
 "cells": [
  {
   "cell_type": "code",
   "execution_count": 1,
   "metadata": {},
   "outputs": [],
   "source": [
    "import qualified Data.Map as Map\n",
    "import qualified Data.Set as Set\n",
    "import qualified Data.Set.Ordered as OSet\n",
    "import Control.Monad.Writer\n",
    "import Control.Monad.Identity\n",
    "import Control.Monad.State\n",
    "import Control.Monad.Reader\n",
    "import Control.Monad.Trans.Maybe\n",
    "import Control.Applicative\n",
    "import Data.List\n",
    "import Data.Tuple"
   ]
  },
  {
   "cell_type": "code",
   "execution_count": 2,
   "metadata": {},
   "outputs": [],
   "source": [
    "type Vertex = Int\n",
    "type Cost = Int\n",
    "data Edge = Edge { vertex:: Vertex, cost:: Cost } deriving (Eq, Show, Ord)"
   ]
  },
  {
   "cell_type": "code",
   "execution_count": 3,
   "metadata": {},
   "outputs": [],
   "source": [
    "newtype Graph = Graph { adjacencyList :: Map.Map Vertex [Edge] } deriving (Eq, Show)"
   ]
  },
  {
   "cell_type": "code",
   "execution_count": 4,
   "metadata": {
    "scrolled": true
   },
   "outputs": [],
   "source": [
    "constructGraph :: [(Vertex, Edge)] -> Graph\n",
    "constructGraph edges = Graph $ foldr (\\e g -> Map.insertWith (++) (fst e) [snd e] g) Map.empty edges"
   ]
  },
  {
   "cell_type": "code",
   "execution_count": 5,
   "metadata": {},
   "outputs": [],
   "source": [
    "graph = constructGraph [(0, Edge 1 2), (1, Edge 0 2), (1, Edge 2 2), (2, Edge 1 2), (2, Edge 3 3),\n",
    "    (3, Edge 2 3), (1, Edge 3 2), (3, Edge 1 2), (0, Edge 3 1), (3, Edge 0 1), (0, Edge 4 1), (4, Edge 0 1)]\n",
    "    \n",
    "graph1 = constructGraph [(0, Edge 3 1), (0, Edge 4 1), (1, Edge 2 1), (2, Edge 1 1), (3, Edge 0 1), (3, Edge 6 1),\n",
    "    (4, Edge 0 1), (5, Edge 3 1), (5, Edge 6 1), (6, Edge 3 1), (6, Edge 5 1)]"
   ]
  },
  {
   "cell_type": "markdown",
   "metadata": {},
   "source": [
    "<h4>DFS and BFS</h4>"
   ]
  },
  {
   "cell_type": "code",
   "execution_count": 7,
   "metadata": {
    "scrolled": true
   },
   "outputs": [],
   "source": [
    "getNeighbors :: Vertex -> Graph -> [Vertex]\n",
    "getNeighbors v g = fmap vertex (Map.findWithDefault [] v (adjacencyList g))\n",
    "\n",
    "filterVisitedNeighbors :: [Vertex] -> Set.Set Vertex -> [Vertex]\n",
    "filterVisitedNeighbors listVertices set = filter (\\x -> not (Set.member x set)) listVertices"
   ]
  },
  {
   "cell_type": "code",
   "execution_count": 10,
   "metadata": {},
   "outputs": [],
   "source": [
    "bfs :: Vertex -> Graph -> [[Vertex]]\n",
    "bfs s g = go [s] [] g (Set.singleton s) [[s]]\n",
    "    where go :: [Vertex] -> [Vertex] -> Graph -> Set.Set Vertex -> [[Vertex]] -> [[Vertex]]\n",
    "          go [] [] g visited result = result\n",
    "          go [] nextLevel g visited result = go nextLevel [] g visited (result ++ [nextLevel])\n",
    "          go (x:xs) nextLevel g visited result = \n",
    "              go xs (nextLevel ++ unvisitedNeighbors x visited) g (Set.union visited (Set.fromList $ unvisitedNeighbors x visited)) result\n",
    "          unvisitedNeighbors x = filterVisitedNeighbors (getNeighbors x g)"
   ]
  },
  {
   "cell_type": "code",
   "execution_count": 12,
   "metadata": {},
   "outputs": [],
   "source": [
    "bfsWithLogging :: Vertex -> Graph -> WriterT [String] Identity [[Vertex]]\n",
    "bfsWithLogging s g = go [s] [] g (Set.singleton s) [[s]]\n",
    "    where go :: [Vertex] -> [Vertex] -> Graph -> Set.Set Vertex -> [[Vertex]] -> WriterT [String] Identity [[Vertex]]\n",
    "          go [] [] g visited result = return result\n",
    "          go [] nextLevel g visited result = go nextLevel [] g visited (result ++ [nextLevel])\n",
    "          go (x:xs) nextLevel g visited result = do\n",
    "              tell [\"Visiting :\" ++ show x]\n",
    "              go xs (nextLevel ++ unvisitedNeighbors x visited) g (Set.union visited (Set.fromList $ unvisitedNeighbors x visited)) result\n",
    "          unvisitedNeighbors x = filterVisitedNeighbors (getNeighbors x g)"
   ]
  },
  {
   "cell_type": "code",
   "execution_count": 13,
   "metadata": {},
   "outputs": [
    {
     "data": {
      "text/plain": [
       "([[0],[1,3,4],[2]],[\"Visiting :0\",\"Visiting :1\",\"Visiting :3\",\"Visiting :4\",\"Visiting :2\"])"
      ]
     },
     "metadata": {},
     "output_type": "display_data"
    }
   ],
   "source": [
    "runIdentity . runWriterT $ bfsWithLogging 0 graph"
   ]
  },
  {
   "cell_type": "code",
   "execution_count": 14,
   "metadata": {},
   "outputs": [],
   "source": [
    "type Env = (Graph, Set.Set Vertex)\n",
    "type DFSState = ([Vertex], Set.Set Vertex)\n",
    "type Stack = [Vertex]\n",
    "\n",
    "type DFSResult = ReaderT Env (MaybeT (StateT Vertex Identity)) DFSState"
   ]
  },
  {
   "cell_type": "code",
   "execution_count": null,
   "metadata": {},
   "outputs": [],
   "source": [
    "dfsNextVisit :: Stack -> DFSState -> Maybe ([Vertex], DFSState)\n",
    "dfsNextVisit [] _ = Nothing\n",
    "dfsNextVisit (x:xs) (g, visited) = if not (Set.member x visited) \n",
    "                                     then Just (x, (xs, Set.insert x visited))\n",
    "                                   else dfsNextVisit xs (g, visited)                            "
   ]
  },
  {
   "cell_type": "code",
   "execution_count": null,
   "metadata": {},
   "outputs": [],
   "source": [
    "dfs :: Vertex -> Graph -> [Vertex]\n",
    "dfs s g = go [s] g (Set.empty) []\n",
    "    where go :: Stack -> Graph -> Set.Set Vertex -> [Vertex] -> [Vertex]\n",
    "          go [] _ _ dfsTrail = dfsTrail\n",
    "          go (x:xs) g visited dfsTrail = if not (Set.member x visited)\n",
    "                                           then go ((getNeighbors x g) ++ xs) g (Set.insert x visited) (dfsTrail ++ [x])\n",
    "                                         else go xs g visited dfsTrail"
   ]
  },
  {
   "cell_type": "code",
   "execution_count": 16,
   "metadata": {},
   "outputs": [],
   "source": [
    "type DFSState = ([Vertex], OSet.OSet Vertex)\n",
    "type Env = Graph\n",
    "type DFSNextState = ReaderT Env (StateT DFSState Identity) Int"
   ]
  },
  {
   "cell_type": "code",
   "execution_count": 17,
   "metadata": {},
   "outputs": [],
   "source": [
    "{-# LANGUAGE FlexibleContexts #-}\n",
    "\n",
    "dfsGetNext :: DFSNextState\n",
    "dfsGetNext = do\n",
    "    graph <- ask\n",
    "    s <- get\n",
    "    let candidates = fst s\n",
    "    let visited = snd s\n",
    "    let ret = case candidates of\n",
    "                []     -> return 0 :: DFSNextState\n",
    "                (x:xs) -> if x `OSet.member` visited \n",
    "                            then put (xs, visited) >> (return 1 :: DFSNextState)\n",
    "                          else put (getNeighbors x graph ++ xs, x OSet.<| visited) >> (return 1 :: DFSNextState)\n",
    "    ret"
   ]
  },
  {
   "cell_type": "code",
   "execution_count": 16,
   "metadata": {},
   "outputs": [],
   "source": [
    "{-# LANGUAGE RankNTypes, KindSignatures #-}\n",
    "replicateMUntil :: forall (m :: * -> *) a. Monad m => (m a -> m Bool) -> m a -> m [a]\n",
    "replicateMUntil f ma = do\n",
    "    res <- f ma\n",
    "    if res then liftM2 (:) ma (replicateMUntil f ma) else return []"
   ]
  },
  {
   "cell_type": "code",
   "execution_count": 19,
   "metadata": {},
   "outputs": [],
   "source": [
    "isNextAvailable :: DFSNextState -> ReaderT Env (StateT DFSState Identity) Bool\n",
    "isNextAvailable nextState = do\n",
    "    s <- get\n",
    "    return (fst s /= [])"
   ]
  },
  {
   "cell_type": "code",
   "execution_count": 20,
   "metadata": {},
   "outputs": [
    {
     "data": {
      "text/plain": [
       "Identity ([1,1,1,1,1,1,1,1,1,1,1,1,1],([],fromList [4,3,2,1,0]))"
      ]
     },
     "metadata": {},
     "output_type": "display_data"
    }
   ],
   "source": [
    "dfsStartState :: DFSState\n",
    "dfsStartState = ([0], OSet.empty)\n",
    "\n",
    "dfsSteps = replicateMUntil isNextAvailable dfsGetNext\n",
    "\n",
    "runStateT (runReaderT dfsSteps graph) dfsStartState"
   ]
  },
  {
   "cell_type": "code",
   "execution_count": 21,
   "metadata": {},
   "outputs": [
    {
     "data": {
      "text/plain": [
       "Identity ([1,1,1,1,1,1,1,1,1,1],([],fromList [4,5,6,3,0]))"
      ]
     },
     "metadata": {},
     "output_type": "display_data"
    }
   ],
   "source": [
    "runStateT (runReaderT dfsSteps graph1) dfsStartState"
   ]
  },
  {
   "cell_type": "markdown",
   "metadata": {},
   "source": [
    "<h4>Topological Sort</h4>"
   ]
  },
  {
   "cell_type": "code",
   "execution_count": 6,
   "metadata": {},
   "outputs": [],
   "source": [
    "-- Let us define a more general graph, which can have any type of Vertex, rather than just enforcing it to be Int\n",
    "data GeneralEdge a b = GeneralEdge { general_vertex:: a, general_cost:: b } deriving (Eq, Show, Ord)\n",
    "\n",
    "data GeneralGraph a b = GeneralGraph { adjacencyList :: Map.Map a [GeneralEdge a b], \n",
    "                            incomingDegree :: Map.Map a Int } deriving (Eq, Show)"
   ]
  },
  {
   "cell_type": "code",
   "execution_count": 7,
   "metadata": {},
   "outputs": [],
   "source": [
    "addDirectedEdges (a, e) (m, m') = (Map.insertWith (++) a [e] m, \n",
    "                                    Map.insertWith (+) (general_vertex e) 1 (Map.insertWith (+) a 0 m'))\n",
    "\n",
    "constructGeneralDirectedGraph :: (Ord a, Num b) => [(a, GeneralEdge a b)] -> GeneralGraph a b\n",
    "constructGeneralDirectedGraph edges = uncurry GeneralGraph (foldr addDirectedEdges (Map.empty, Map.empty) edges)"
   ]
  },
  {
   "cell_type": "code",
   "execution_count": 8,
   "metadata": {},
   "outputs": [],
   "source": [
    "addUndirectedEdges (a, e) (m, m') = (Map.insertWith (++) (general_vertex e) [GeneralEdge a (general_cost e)] \n",
    "                                        (Map.insertWith (++) a [e] m),\n",
    "                                    Map.insertWith (+) a 1 (Map.insertWith (+) (general_vertex e) 1 m'))\n",
    "\n",
    "constructGeneralUndirectedGraph :: (Ord a, Num b) => [(a, GeneralEdge a b)] -> GeneralGraph a b\n",
    "constructGeneralUndirectedGraph edges = uncurry GeneralGraph (foldr addUndirectedEdges (Map.empty, Map.empty) edges)"
   ]
  },
  {
   "cell_type": "code",
   "execution_count": 9,
   "metadata": {},
   "outputs": [],
   "source": [
    "graph' = constructGeneralDirectedGraph [(0, GeneralEdge 1 1), (0, GeneralEdge 2 1), (0, GeneralEdge 3 1)]"
   ]
  },
  {
   "cell_type": "code",
   "execution_count": 10,
   "metadata": {},
   "outputs": [],
   "source": [
    "getStartVertex :: GeneralGraph a b -> Maybe a\n",
    "getStartVertex g = fmap fst (find (\\(k, d) -> d == 0) (Map.toList $ incomingDegree g))"
   ]
  },
  {
   "cell_type": "code",
   "execution_count": 21,
   "metadata": {},
   "outputs": [],
   "source": [
    "type TSortState a = ([a], Map.Map a Int)\n",
    "type GEnv a b = GeneralGraph a b\n",
    "type TSortNextState a b = ReaderT (GEnv a b) (WriterT [String] (StateT (TSortState a) Identity)) (Maybe a)"
   ]
  },
  {
   "cell_type": "code",
   "execution_count": 55,
   "metadata": {},
   "outputs": [],
   "source": [
    "tSortNextState :: (Show a, Ord a) => TSortNextState a b\n",
    "tSortNextState = do\n",
    "    graph <- ask\n",
    "    (candidates, degreesMap) <- get\n",
    "    case candidates of\n",
    "        []     -> tell [\"No more candidates!\"] >> return Nothing\n",
    "        (x:xs) -> tell [\"Choosing candidate : \" ++ show x] >>\n",
    "                  put (xs ++ newVerticesWithZeroIncomingDegree, updatedDegreesMap) >>\n",
    "                  return (Just x)\n",
    "                    where (newVerticesWithZeroIncomingDegree, updatedDegreesMap) =\n",
    "                            foldr (\\(GeneralEdge v _) (c, m) -> (if m Map.! v == 1 then c ++ [v] \n",
    "                                else c, Map.insertWith (+) v (-1) m)) ([], degreesMap) \n",
    "                                    (Map.findWithDefault [] x (adjacencyList graph))"
   ]
  },
  {
   "cell_type": "code",
   "execution_count": 56,
   "metadata": {},
   "outputs": [],
   "source": [
    "isNextAvailableForTSort :: Ord a => TSortNextState a b \n",
    "                    -> ReaderT (GEnv a b) (WriterT [String] (StateT (TSortState a) Identity)) Bool\n",
    "isNextAvailableForTSort nextState = do\n",
    "    s <- get\n",
    "    return (fst s /= [])"
   ]
  },
  {
   "cell_type": "code",
   "execution_count": 57,
   "metadata": {},
   "outputs": [],
   "source": [
    "topologicalSort graph = fmap (runStateT (runWriterT (runReaderT tSortSteps graph))) tSortStartState\n",
    "    where tSortSteps = replicateMUntil isNextAvailableForTSort tSortNextState\n",
    "          tSortStartState = fmap (\\x -> ([x], incomingDegree graph)) (getStartVertex graph)"
   ]
  },
  {
   "cell_type": "code",
   "execution_count": 58,
   "metadata": {},
   "outputs": [
    {
     "data": {
      "text/plain": [
       "Just (Identity (([Just 0,Just 3,Just 2,Just 1],[\"Choosing candidate : 0\",\"Choosing candidate : 3\",\"Choosing candidate : 2\",\"Choosing candidate : 1\"]),([],fromList [(0,0),(1,0),(2,0),(3,0)])))"
      ]
     },
     "metadata": {},
     "output_type": "display_data"
    }
   ],
   "source": [
    "topologicalSort graph'"
   ]
  },
  {
   "cell_type": "code",
   "execution_count": 59,
   "metadata": {},
   "outputs": [],
   "source": [
    "graph'' = constructGeneralDirectedGraph [(0, GeneralEdge 1 1), (0, GeneralEdge 2 1), (1, GeneralEdge 2 1),\n",
    "        (2, GeneralEdge 3 1), (3, GeneralEdge 4 1), (3, GeneralEdge 5 1), (4, GeneralEdge 5 1)]"
   ]
  },
  {
   "cell_type": "code",
   "execution_count": 60,
   "metadata": {},
   "outputs": [
    {
     "data": {
      "text/plain": [
       "Just (Identity (([Just 0,Just 1,Just 2,Just 3,Just 4,Just 5],[\"Choosing candidate : 0\",\"Choosing candidate : 1\",\"Choosing candidate : 2\",\"Choosing candidate : 3\",\"Choosing candidate : 4\",\"Choosing candidate : 5\"]),([],fromList [(0,0),(1,0),(2,0),(3,0),(4,0),(5,0)])))"
      ]
     },
     "metadata": {},
     "output_type": "display_data"
    }
   ],
   "source": [
    "topologicalSort graph''"
   ]
  }
 ],
 "metadata": {
  "kernelspec": {
   "display_name": "Haskell",
   "language": "haskell",
   "name": "haskell"
  },
  "language_info": {
   "codemirror_mode": "ihaskell",
   "file_extension": ".hs",
   "name": "haskell",
   "pygments_lexer": "Haskell",
   "version": "8.8.3"
  }
 },
 "nbformat": 4,
 "nbformat_minor": 2
}
